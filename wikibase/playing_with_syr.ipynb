{
  "nbformat": 4,
  "nbformat_minor": 0,
  "metadata": {
    "colab": {
      "provenance": [],
      "authorship_tag": "ABX9TyMxVv7ns47jCXf8j9MlPrrm",
      "include_colab_link": true
    },
    "kernelspec": {
      "name": "python3",
      "display_name": "Python 3"
    },
    "language_info": {
      "name": "python"
    }
  },
  "cells": [
    {
      "cell_type": "markdown",
      "metadata": {
        "id": "view-in-github",
        "colab_type": "text"
      },
      "source": [
        "<a href=\"https://colab.research.google.com/github/petermr/semanticClimate/blob/main/wikibase/playing_with_syr.ipynb\" target=\"_parent\"><img src=\"https://colab.research.google.com/assets/colab-badge.svg\" alt=\"Open In Colab\"/></a>"
      ]
    },
    {
      "cell_type": "code",
      "source": [
        "#installation\n",
        "!pip install beautifulsoup4"
      ],
      "metadata": {
        "colab": {
          "base_uri": "https://localhost:8080/"
        },
        "id": "-HWPlTWrZcyy",
        "outputId": "e84c8cba-3e8b-486e-a5f0-29cf8a38417d"
      },
      "execution_count": 1,
      "outputs": [
        {
          "output_type": "stream",
          "name": "stdout",
          "text": [
            "Looking in indexes: https://pypi.org/simple, https://us-python.pkg.dev/colab-wheels/public/simple/\n",
            "Requirement already satisfied: beautifulsoup4 in /usr/local/lib/python3.10/dist-packages (4.11.2)\n",
            "Requirement already satisfied: soupsieve>1.2 in /usr/local/lib/python3.10/dist-packages (from beautifulsoup4) (2.4.1)\n"
          ]
        }
      ]
    },
    {
      "cell_type": "code",
      "source": [
        "#imports\n",
        "from bs4 import BeautifulSoup\n",
        "from pprint import pprint\n",
        "import pandas as pd"
      ],
      "metadata": {
        "id": "T5J3fOUjij9O"
      },
      "execution_count": 24,
      "outputs": []
    },
    {
      "cell_type": "code",
      "source": [
        "#constants\n",
        "SYR_TOTAL_PAGES = \"/content/total_pages.sections.html\" # downloaded from https://github.com/petermr/semanticClimate/blob/main/ipcc/ar6/syr/lr/total_pages.sections.html\n",
        "SUB_SUB_SECTION_TITLE = 'sub_sub_section_title'\n",
        "CSV_FILE_NAME = \"final_list_of_sub_sub_section_title_quickstatements.csv\""
      ],
      "metadata": {
        "id": "EKgwDJcmipVX"
      },
      "execution_count": 31,
      "outputs": []
    },
    {
      "cell_type": "code",
      "source": [
        "# get all the sub-sub-section-title\n",
        "with open(SYR_TOTAL_PAGES) as fp: \n",
        "    soup = BeautifulSoup(fp)\n",
        "    spans = soup.find_all('span', {'class' : SUB_SUB_SECTION_TITLE})\n",
        "     #create a list of lines corresponding to element texts\n",
        "    lines = [span.get_text() for span in spans]\n",
        "    pprint(lines)"
      ],
      "metadata": {
        "colab": {
          "base_uri": "https://localhost:8080/"
        },
        "id": "6aQZhxxsZsnd",
        "outputId": "882680e9-c274-43c6-a3d7-4c17c2d30549"
      },
      "execution_count": 22,
      "outputs": [
        {
          "output_type": "stream",
          "name": "stdout",
          "text": [
            "['2.1.1 Observed Warming and its Causes ',\n",
            " '2.1.2 Observed Climate System Changes and Impacts to Date ',\n",
            " '2.2.1 Global Policy Setting ',\n",
            " '2.2.2 Mitigation Actions to Date ',\n",
            " '2.2.3 Adaptation Actions to Date ',\n",
            " '2.3.1 The Gap Between Mitigation Policies, Pledges and Pathways that Limit '\n",
            " 'Warming to 1.5 or Below 2°C ',\n",
            " '2.3.2 Adaptation Gaps and Barriers 27 ',\n",
            " '2.3.3 Lack of Finance as a Barrier to Climate Action 28 ',\n",
            " '3.1.1 Long-term Climate Change 33 ',\n",
            " '3.1.2 Impacts and Related Risks 36 ',\n",
            " '3.1.3 The Likelihood and Risks of Abrupt and Irreversible Change 42 ',\n",
            " '3.3.1 Remaining Carbon Budgets 46 ',\n",
            " '3.3.2 Net Zero Emissions: Timing and Implications 50 ',\n",
            " '3.3.3 Sectoral Contributions to Mitigation 51 ',\n",
            " '3.3.4 Overshoot Pathways: Increased Risks and Other Implications 53 ',\n",
            " '3.4.1 Synergies and trade-offs, costs and benefits 53 ',\n",
            " '3.4.2 Advancing Integrated Climate Action for Sustainable Development 55 ',\n",
            " '4.5.1 Energy Systems 70 ',\n",
            " '4.5.2 Industry 71 ',\n",
            " '4.5.3 Cities, Settlements and Infrastructure 72 ',\n",
            " '4.5.4 Land, Ocean, Food, and Water 73 ',\n",
            " '4.5.5 Health and Nutrition 74 ',\n",
            " '4.5.6 Society, Livelihoods, and Economies 74 ',\n",
            " '4.8.1 Finance for Mitigation and Adaptation Actions 80 ',\n",
            " '4.8.2 International Cooperation and Coordination 82 ',\n",
            " '4.8.3 Technology Innovation, Adoption, Diffusion and Transfer 83 ',\n",
            " '2.1.1 Observed Warming and its Causes  ',\n",
            " '2.1.2 Observed Climate System Changes and Impacts to Date ',\n",
            " '2.2.1 Global Policy Setting  ',\n",
            " '2.2.2 Mitigation Actions to Date ',\n",
            " '2.2.3 Adaptation Actions to Date ',\n",
            " '2.3.1 The Gap Between Mitigation Policies, Pledges and Pathways that Limit '\n",
            " 'Warming to 1.5 or Below 2°C ',\n",
            " '2.3.2 Adaptation Gaps and Barriers  ',\n",
            " '2.3.3 Lack of Finance as a Barrier to Climate Action  ',\n",
            " '3.1.1 Long-term Climate Change  ',\n",
            " '3.1.2 Impacts and Related Risks ',\n",
            " '3.1.3 The Likelihood and Risks of Abrupt and Irreversible Change ',\n",
            " '3.3.1 Remaining Carbon Budgets ',\n",
            " '3.3.2 Net Zero Emissions: Timing and Implications ',\n",
            " '3.3.3 Sectoral Contributions to Mitigation ',\n",
            " '3.3.4 Overshoot Pathways: Increased Risks and Other Implications ',\n",
            " '3.4.1 Synergies and trade-offs, costs and benefits ',\n",
            " '3.4.2 Advancing Integrated Climate Action for Sustainable Development ',\n",
            " '4.5.1 Energy Systems ',\n",
            " '4.5.2 Industry  ',\n",
            " '4.5.3 Cities, Settlements and Infrastructure ',\n",
            " '4.5.4 Land, Ocean, Food, and Water ',\n",
            " '4.5.5 Health and Nutrition ',\n",
            " '4.5.6 Society, Livelihoods, and Economies ',\n",
            " '4.8.1 Finance for Mitigation and Adaptation Actions ',\n",
            " '4.8.2 International Cooperation and Coordination  ',\n",
            " '4.8.3 Technology Innovation, Adoption, Diffusion and Transfer  ']\n"
          ]
        }
      ]
    },
    {
      "cell_type": "markdown",
      "source": [
        "Cleaned list of sub-sub-sections.\n",
        "```\n",
        "['2.1.1 Observed Warming and its Causes ',\n",
        " '2.1.2 Observed Climate System Changes and Impacts to Date',\n",
        " '2.2.1 Global Policy Setting',\n",
        " '2.2.2 Mitigation Actions to Date',\n",
        " '2.2.3 Adaptation Actions to Date',\n",
        " '2.3.1 The Gap Between Mitigation Policies, Pledges and Pathways that Limit'\n",
        " 'Warming to 1.5 or Below 2°C',\n",
        " '2.3.2 Adaptation Gaps and Barriers',\n",
        " '2.3.3 Lack of Finance as a Barrier to Climate Action',\n",
        " '3.1.1 Long-term Climate Change',\n",
        " '3.1.2 Impacts and Related Risks',\n",
        " '3.1.3 The Likelihood and Risks of Abrupt and Irreversible Change',\n",
        " '3.3.1 Remaining Carbon Budgets',\n",
        " '3.3.2 Net Zero Emissions: Timing and Implications',\n",
        " '3.3.3 Sectoral Contributions to Mitigation',\n",
        " '3.3.4 Overshoot Pathways: Increased Risks and Other Implications',\n",
        " '3.4.1 Synergies and trade-offs, costs and benefits',\n",
        " '3.4.2 Advancing Integrated Climate Action for Sustainable Development',\n",
        " '4.5.1 Energy Systems',\n",
        " '4.5.2 Industry ',\n",
        " '4.5.3 Cities, Settlements and Infrastructure',\n",
        " '4.5.4 Land, Ocean, Food, and Water',\n",
        " '4.5.5 Health and Nutrition',\n",
        " '4.5.6 Society, Livelihoods, and Economies',\n",
        " '4.8.1 Finance for Mitigation and Adaptation Actions',\n",
        " '4.8.2 International Cooperation and Coordination',\n",
        " '4.8.3 Technology Innovation, Adoption, Diffusion and Transfer']\n",
        "```"
      ],
      "metadata": {
        "id": "dTJ0vbtPg8V1"
      }
    },
    {
      "cell_type": "code",
      "source": [
        "#list of manually cleaned sub-sub-section titles\n",
        "cleaned_list_of_sub_sub_section_title = ['2.1.1 Observed Warming and its Causes ',\n",
        " '2.1.2 Observed Climate System Changes and Impacts to Date',\n",
        " '2.2.1 Global Policy Setting',\n",
        " '2.2.2 Mitigation Actions to Date',\n",
        " '2.2.3 Adaptation Actions to Date',\n",
        " '2.3.1 The Gap Between Mitigation Policies, Pledges and Pathways that Limit'\n",
        " 'Warming to 1.5 or Below 2°C',\n",
        " '2.3.2 Adaptation Gaps and Barriers',\n",
        " '2.3.3 Lack of Finance as a Barrier to Climate Action',\n",
        " '3.1.1 Long-term Climate Change',\n",
        " '3.1.2 Impacts and Related Risks',\n",
        " '3.1.3 The Likelihood and Risks of Abrupt and Irreversible Change',\n",
        " '3.3.1 Remaining Carbon Budgets',\n",
        " '3.3.2 Net Zero Emissions: Timing and Implications',\n",
        " '3.3.3 Sectoral Contributions to Mitigation',\n",
        " '3.3.4 Overshoot Pathways: Increased Risks and Other Implications',\n",
        " '3.4.1 Synergies and trade-offs, costs and benefits',\n",
        " '3.4.2 Advancing Integrated Climate Action for Sustainable Development',\n",
        " '4.5.1 Energy Systems',\n",
        " '4.5.2 Industry ',\n",
        " '4.5.3 Cities, Settlements and Infrastructure',\n",
        " '4.5.4 Land, Ocean, Food, and Water',\n",
        " '4.5.5 Health and Nutrition',\n",
        " '4.5.6 Society, Livelihoods, and Economies',\n",
        " '4.8.1 Finance for Mitigation and Adaptation Actions',\n",
        " '4.8.2 International Cooperation and Coordination',\n",
        " '4.8.3 Technology Innovation, Adoption, Diffusion and Transfer']"
      ],
      "metadata": {
        "id": "M8NZNabFl8Qe"
      },
      "execution_count": 27,
      "outputs": []
    },
    {
      "cell_type": "code",
      "source": [
        "# Creating QuickStatements CSV\n",
        "df = pd.DataFrame()\n",
        "df[\"qid\"] = \" \"\n",
        "df[\"Len\"] = cleaned_list_of_sub_sub_section_title\n",
        "df[\"Den\"] = \"sub-sub-section title\"\n",
        "df[\"P1\"] = \"Q18\"\n",
        "df.to_csv(CSV_FILE_NAME, index=False)"
      ],
      "metadata": {
        "id": "AoGKKsdohwHL"
      },
      "execution_count": 36,
      "outputs": []
    }
  ]
}