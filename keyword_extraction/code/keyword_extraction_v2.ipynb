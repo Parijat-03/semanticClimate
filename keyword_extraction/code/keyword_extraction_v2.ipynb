{
 "cells": [
  {
   "cell_type": "code",
   "execution_count": null,
   "metadata": {},
   "outputs": [],
   "source": [
    "%pip install pandas\n",
    "%git clone https://github.com/petermr/semanticClimate"
   ]
  }
 ],
 "metadata": {
  "kernelspec": {
   "display_name": "Python 3",
   "language": "python",
   "name": "python3"
  },
  "language_info": {
   "name": "python",
   "version": "3.10.10"
  },
  "orig_nbformat": 4,
  "vscode": {
   "interpreter": {
    "hash": "80e1c376cdf93d711d123c45e2b6c6b654e50bddcaa1ec7b85cafe02fb52c70e"
   }
  }
 },
 "nbformat": 4,
 "nbformat_minor": 2
}
