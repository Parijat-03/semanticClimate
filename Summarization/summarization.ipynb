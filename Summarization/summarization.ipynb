{
  "nbformat": 4,
  "nbformat_minor": 0,
  "metadata": {
    "colab": {
      "provenance": [],
      "gpuType": "T4"
    },
    "kernelspec": {
      "name": "python3",
      "display_name": "Python 3"
    },
    "language_info": {
      "name": "python"
    },
    "accelerator": "GPU",
    "gpuClass": "standard"
  },
  "cells": [
    {
      "cell_type": "markdown",
      "source": [
        "Abstractive Summarization"
      ],
      "metadata": {
        "id": "uTk_ViCimmCK"
      }
    },
    {
      "cell_type": "code",
      "source": [
        "!pip install -q torch==2.0.0 torchvision\n",
        "!git clone https://github.com/petermr/semanticClimate.git\n",
        "import pandas as pd"
      ],
      "metadata": {
        "id": "MvSIJTn0mr9f"
      },
      "execution_count": null,
      "outputs": []
    },
    {
      "cell_type": "code",
      "source": [
        "import torch\n",
        "import os\n",
        "print(torch.__version__)\n",
        "print('\\033[1;32m We have successfully finished running this cell.')"
      ],
      "metadata": {
        "id": "VCunoWJHpcGD",
        "colab": {
          "base_uri": "https://localhost:8080/"
        },
        "outputId": "012c098a-9ff5-4fb7-850e-4139d3f87613"
      },
      "execution_count": 3,
      "outputs": [
        {
          "output_type": "stream",
          "name": "stdout",
          "text": [
            "2.0.0+cu118\n",
            "\u001b[1;32m We have successfully finished running this cell.\n"
          ]
        }
      ]
    },
    {
      "cell_type": "code",
      "source": [
        "%pip install transformers\n",
        "from transformers import AutoTokenizer, AutoModelForSeq2SeqLM, pipeline\n",
        "tokenizer = AutoTokenizer.from_pretrained(\"pszemraj/led-large-book-summary\")\n",
        "model = AutoModelForSeq2SeqLM.from_pretrained(\"pszemraj/led-large-book-summary\")\n",
        "hf_name = 'pszemraj/led-large-book-summary'\n",
        "os.environ[\"CUDA_VISIBLE_DEVICES\"] = \"0\"\n",
        "\n",
        "summarizer = pipeline(\n",
        "    \"summarization\",\n",
        "    hf_name,\n",
        "    device=0 if torch.cuda.is_available() else -1,\n",
        ")\n",
        "def count_words(string):\n",
        "  string1 = string.strip()\n",
        "  count = 1\n",
        "  for i in string1:\n",
        "    if i == \" \":\n",
        "      count += 1\n",
        "  return count\n",
        "print('\\033[1;32m We have successfully finished running this cell.')"
      ],
      "metadata": {
        "id": "o9RvkkiiuSVm"
      },
      "execution_count": 4,
      "outputs": []
    },
    {
      "cell_type": "code",
      "source": [
        "wall_of_text = \"Achieving global net zero CO2emissions, with anthropogenic CO2 emissions balanced by anthropogenic removals of CO2, is a requirement for stabilizing CO2-induced global surface temperature increase. This is different from achieving net zero GHG emissions, where metric-weighted anthropogenic GHG emissions equal metric-weighted anthropogenic GHG removals. For a given GHG emissions pathway, the pathways of individual GHGs determine the resulting climate response,46whereas the choice of emissions metric47used to calculate aggregated emissions and removals of different GHGs affects what point in time the aggregated GHGs are calculated to be net zero. Emissions pathways that reach and sustain net zero GHG emissions defined by the 100-year global warming potential are projected to result in a decline in surface temperature after an earlier peak .\"\n",
        "\n",
        "result = summarizer(\n",
        "    wall_of_text,\n",
        "    min_length=64,\n",
        "    max_length=512,\n",
        "    no_repeat_ngram_size=3,\n",
        "    encoder_no_repeat_ngram_size=3,\n",
        "    repetition_penalty=3.5,\n",
        "    num_beams=4,\n",
        "    early_stopping=True,\n",
        ")\n",
        "#print(count_words(wall_of_text))\n",
        "#print(len(wall_of_text))\n",
        "output = result[0]['summary_text']\n",
        "print(output)\n",
        "#print(len(output))\n",
        "\n",
        "#print(f'type of result {type(result[0])} {result[0].keys()}')\n",
        "#print(f'type of result {type(result)} and {len(result)}')"
      ],
      "metadata": {
        "id": "iM4nkeq2wA2G",
        "colab": {
          "base_uri": "https://localhost:8080/"
        },
        "outputId": "e70e8879-f642-4201-9c82-d66925347e0a"
      },
      "execution_count": null,
      "outputs": [
        {
          "output_type": "stream",
          "name": "stdout",
          "text": [
            "In this paper, Wollstonecraft and his colleagues seek to achieve \"net zero greenhouse gas emissions\" and a net zero increase in CO2 , respectively, in order to counteract the effects of anthropogenic and industrial GHGs on the climate. To achieve net zero emissions, they use different metrics than those used for calculating net zero carbon dioxide emissions. They define net zero as \"equal metric-weights of anthropogenically emitted CO2 to equivalent metric-boundless amounts of removed CO2.\" In other words, their goal is to achieve an emissions level equal to or below zero\n"
          ]
        }
      ]
    },
    {
      "cell_type": "code",
      "source": [
        "df = pd.read_csv('/content/semanticClimate/paragraphLinking/parsed_sample_anchor_target_pairs.csv')\n",
        "df[\"anchor_summary\"] = df[\"anchor_text\"].apply(lambda x: summarizer(x,\n",
        "    min_length=64,\n",
        "    max_length=512,\n",
        "    no_repeat_ngram_size=3,\n",
        "    encoder_no_repeat_ngram_size=3,\n",
        "    repetition_penalty=3.5,\n",
        "    num_beams=4,\n",
        "    early_stopping=True,)[0]['summary_text'])\n",
        "df[\"target_summary\"] = df[\"target_text\"].apply(lambda x: summarizer(x,\n",
        "    min_length=64,\n",
        "    max_length=512,\n",
        "    no_repeat_ngram_size=3,\n",
        "    encoder_no_repeat_ngram_size=3,\n",
        "    repetition_penalty=3.5,\n",
        "    num_beams=4,\n",
        "    early_stopping=True,)[0]['summary_text'])\n",
        "df.to_csv('/content/parsed_sample_anchor_target_pairs.csv', index=None)\n",
        "print('\\033[1;32m We have successfully finished running this cell.')"
      ],
      "metadata": {
        "id": "8StiI-1d9Hkn"
      },
      "execution_count": null,
      "outputs": []
    }
  ]
}