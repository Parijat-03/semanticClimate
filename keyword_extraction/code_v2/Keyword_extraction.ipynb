{
  "nbformat": 4,
  "nbformat_minor": 0,
  "metadata": {
    "colab": {
      "provenance": []
    },
    "kernelspec": {
      "name": "python3",
      "display_name": "Python 3"
    },
    "language_info": {
      "name": "python"
    },
    "accelerator": "GPU",
    "gpuClass": "standard"
  },
  "cells": [
    {
      "cell_type": "markdown",
      "source": [
        "# Keyword Extraction"
      ],
      "metadata": {
        "id": "JWQaYYxR6PxN"
      }
    },
    {
      "cell_type": "code",
      "execution_count": null,
      "metadata": {
        "id": "S00y3EXivhGP"
      },
      "outputs": [],
      "source": [
        "!git clone https://github.com/petermr/semanticClimate.git\n",
        "!pip install pipreqs\n",
        "!pipreqs --savepath /content/req.txt /content/semanticClimate/keyword_extraction/code_v2/\n",
        "!pip install -r /content/req.txt\n",
        "!python -m spacy download en_core_web_lg"
      ]
    },
    {
      "cell_type": "markdown",
      "source": [
        "#### The following cell runs the entire script, and saves the output to /content/{chapter}_keyphrases.csv where the XX stands for the Chapter number.\n",
        "\n",
        "#### To run your chapter make sure the html version of the pdf is saved as fulltext.html in the semanticClimate repository. Change the value of ```chapter``` to your chapter number. \n",
        "#### eg: 'Chapter05'"
      ],
      "metadata": {
        "id": "4JACxApQ6e0n"
      }
    },
    {
      "cell_type": "code",
      "source": [
        "chapter = 'Chapter05'\n",
        "!python /content/semanticClimate/keyword_extraction/code_v2/keyword_extraction_v2_test.py -i /content/semanticClimate/ipcc/ar6/wg3/{chapter}/fulltext.html -s /content/{chapter}_"
      ],
      "metadata": {
        "id": "Qp3XJ3S6wG-L"
      },
      "execution_count": null,
      "outputs": []
    },
    {
      "cell_type": "markdown",
      "source": [
        "#### Find the output at  /content/{chapter}_keyphrases.csv  \n",
        "#### default output at /content/Chapter05_keyphrases.csv"
      ],
      "metadata": {
        "id": "xUt0FFyd74OJ"
      }
    }
  ]
}