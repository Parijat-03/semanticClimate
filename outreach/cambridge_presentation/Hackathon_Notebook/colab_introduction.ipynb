{
  "nbformat": 4,
  "nbformat_minor": 0,
  "metadata": {
    "colab": {
      "provenance": [],
      "authorship_tag": "ABX9TyP23lOqaWumoiW7cQ/sgpxp",
      "include_colab_link": true
    },
    "kernelspec": {
      "name": "python3",
      "display_name": "Python 3"
    },
    "language_info": {
      "name": "python"
    }
  },
  "cells": [
    {
      "cell_type": "markdown",
      "metadata": {
        "id": "view-in-github",
        "colab_type": "text"
      },
      "source": [
        "<a href=\"https://colab.research.google.com/github/petermr/semanticClimate/blob/main/outreach/cambridge_presentation/Hackathon_Notebook/colab_introduction.ipynb\" target=\"_parent\"><img src=\"https://colab.research.google.com/assets/colab-badge.svg\" alt=\"Open In Colab\"/></a>"
      ]
    },
    {
      "cell_type": "markdown",
      "source": [
        "Welcome to google Colab Notebook experience. It is very simiar to Jupyter Notebook enviornment. \n",
        "1.  The major difference is that it runs on cloud.\n",
        "2.  No prior installation is needed. You can run it over your favourite browser.  \n",
        "**Note: You will need an gmail id to login to colab**\n",
        "\n"
      ],
      "metadata": {
        "id": "YLNyeNLOd2mR"
      }
    },
    {
      "cell_type": "markdown",
      "source": [
        "## Let's Begin!!!\n",
        "\n",
        "We can do mathematical operations. Like in the code cell below."
      ],
      "metadata": {
        "id": "E22fWD_km3Vb"
      }
    },
    {
      "cell_type": "code",
      "execution_count": null,
      "metadata": {
        "id": "_zGcIALtdvs6",
        "colab": {
          "base_uri": "https://localhost:8080/"
        },
        "outputId": "ce4cd1f5-d97c-4c76-fbf3-75633cc107f8"
      },
      "outputs": [
        {
          "output_type": "stream",
          "name": "stdout",
          "text": [
            "No of seconds in a day: 86400\n"
          ]
        }
      ],
      "source": [
        "Seconds = 24 * 60 * 60\n",
        "print(f'No of seconds in a day: {Seconds}')"
      ]
    },
    {
      "cell_type": "markdown",
      "source": [
        "###You can do interactive plotting\n",
        "With Colab you can harness the full power of popular Python libraries to analyze and visualize data. The code cell below uses **numpy** to generate some random data, and uses **matplotlib** to visualize it. To edit the code, just click the cell and start editing."
      ],
      "metadata": {
        "id": "8mCFTa6jqMnL"
      }
    },
    {
      "cell_type": "code",
      "source": [
        "import numpy as np\n",
        "from matplotlib import pyplot as plt\n",
        "\n",
        "ys = 200 + np.random.randn(100)\n",
        "x = [x for x in range(len(ys))]\n",
        "\n",
        "plt.plot(x, ys, '-')\n",
        "plt.fill_between(x, ys, 195, where=(ys > 195), facecolor='g', alpha=0.6)\n",
        "\n",
        "plt.title(\"Sample Visualization\")\n",
        "plt.show()"
      ],
      "metadata": {
        "id": "joGKhW8elSut",
        "colab": {
          "base_uri": "https://localhost:8080/",
          "height": 281
        },
        "outputId": "94b91226-743b-413b-a477-2c26818f4191"
      },
      "execution_count": null,
      "outputs": [
        {
          "output_type": "display_data",
          "data": {
            "text/plain": [
              "<Figure size 432x288 with 1 Axes>"
            ],
            "image/png": "[encoded data removed]"
          },
          "metadata": {
            "needs_background": "light"
          }
        }
      ]
    },
    {
      "cell_type": "markdown",
      "source": [
        "###Install any library from PYPI\n",
        "\n",
        "In the code cell bellow I am installing NLTK module"
      ],
      "metadata": {
        "id": "nkpKfFR3qqLM"
      }
    },
    {
      "cell_type": "code",
      "source": [
        "!pip install nltk"
      ],
      "metadata": {
        "colab": {
          "base_uri": "https://localhost:8080/"
        },
        "id": "WpyGSelEquzQ",
        "outputId": "b85ad096-5bd5-42a5-f505-7be3df447a99"
      },
      "execution_count": null,
      "outputs": [
        {
          "output_type": "stream",
          "name": "stdout",
          "text": [
            "Looking in indexes: https://pypi.org/simple, https://us-python.pkg.dev/colab-wheels/public/simple/\n",
            "Requirement already satisfied: nltk in /usr/local/lib/python3.7/dist-packages (3.7)\n",
            "Requirement already satisfied: tqdm in /usr/local/lib/python3.7/dist-packages (from nltk) (4.64.1)\n",
            "Requirement already satisfied: regex>=2021.8.3 in /usr/local/lib/python3.7/dist-packages (from nltk) (2022.6.2)\n",
            "Requirement already satisfied: joblib in /usr/local/lib/python3.7/dist-packages (from nltk) (1.2.0)\n",
            "Requirement already satisfied: click in /usr/local/lib/python3.7/dist-packages (from nltk) (7.1.2)\n"
          ]
        }
      ]
    },
    {
      "cell_type": "markdown",
      "source": [
        "###Clone repo from Github\n",
        "You can easily clone any repo from the github...just like we do in our local terminal using `git clone`"
      ],
      "metadata": {
        "id": "8wCzYGCArCz1"
      }
    },
    {
      "cell_type": "code",
      "source": [
        "!git clone https://github.com/petermr/semanticClimate.git"
      ],
      "metadata": {
        "colab": {
          "base_uri": "https://localhost:8080/"
        },
        "id": "GOKv76u0rUks",
        "outputId": "9e668554-cdfa-4fc1-d1fc-e0b4c4193266"
      },
      "execution_count": null,
      "outputs": [
        {
          "output_type": "stream",
          "name": "stdout",
          "text": [
            "Cloning into 'semanticClimate'...\n",
            "remote: Enumerating objects: 4898, done.\u001b[K\n",
            "remote: Counting objects: 100% (621/621), done.\u001b[K\n",
            "remote: Compressing objects: 100% (160/160), done.\u001b[K\n",
            "remote: Total 4898 (delta 445), reused 572 (delta 413), pack-reused 4277\u001b[K\n",
            "Receiving objects: 100% (4898/4898), 318.45 MiB | 16.36 MiB/s, done.\n",
            "Resolving deltas: 100% (2755/2755), done.\n",
            "Checking out files: 100% (3563/3563), done.\n"
          ]
        }
      ]
    }
  ]
}